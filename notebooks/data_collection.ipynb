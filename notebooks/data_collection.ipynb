{
 "cells": [
  {
   "cell_type": "code",
   "execution_count": 11,
   "id": "c7542c7f",
   "metadata": {},
   "outputs": [
    {
     "name": "stdout",
     "output_type": "stream",
     "text": [
      "        date                                 merchant  amount\n",
      "0 2025-09-04       PRE-AUTHORIZED PAYMENT - THANK YOU  391.07\n",
      "1 2025-09-02       2574 GAP OUTLET CANADA LASALLE, ON  -27.11\n",
      "2 2025-09-02     DD/DOORDASHINDIAPARADI VANCOUVER, BC  -16.14\n",
      "3 2025-09-02               WALMART.CA MISSISSAUGA, ON  -69.36\n",
      "4 2025-09-02                   CAW MARKET WINDSOR, ON   -1.92\n",
      "5 2025-08-26              DOLLARAMA # 789 WINDSOR, ON  -17.52\n",
      "6 2025-08-21               POPEYES #12213 WINDSOR, ON   -6.41\n",
      "7 2025-08-21         UBER CANADA/UBEREATS TORONTO, ON  -11.81\n",
      "8 2025-08-19  FIDO Mobile ******8845 888-481-3436, ON  -38.42\n",
      "9 2025-08-19     TERANET POA HANDLING FEE TORONTO, ON   -3.00\n"
     ]
    }
   ],
   "source": [
    "import pandas as pd\n",
    "\n",
    "# Load bank CSV\n",
    "df = pd.read_csv(\"/home/sehar/INTELLIGENT-EXPENSE-TRACKER/data/raw/cibc_data.csv\",header=None)\n",
    "# Example columns: ['Date', 'Merchant', 'Description', 'Amount']\n",
    "\n",
    "# Load Splitwise CSV\n",
    "# df_splitwise = pd.read_csv(\"splitwise_expenses.csv\")\n",
    "# # Example columns: ['Date', 'Group', 'Note', 'Amount', 'PaidBy']\n",
    "# Rename columns explicitly\n",
    "df.columns = [\"date\", \"merchant\", \"debit\", \"credit\", \"card_no\"]\n",
    "\n",
    "# Convert debit/credit to numeric\n",
    "df[\"debit\"] = pd.to_numeric(df[\"debit\"], errors=\"coerce\")\n",
    "df[\"credit\"] = pd.to_numeric(df[\"credit\"], errors=\"coerce\")\n",
    "\n",
    "# Create signed amount column\n",
    "df[\"amount\"] = df[\"credit\"].fillna(0) - df[\"debit\"].fillna(0)\n",
    "\n",
    "df[\"date\"] = pd.to_datetime(df[\"date\"])\n",
    "df_clean = df[[\"date\", \"merchant\", \"amount\"]]\n",
    "\n",
    "df_clean.to_csv('/home/sehar/INTELLIGENT-EXPENSE-TRACKER/data/raw/first_batch.csv', index=False)\n",
    "\n",
    "print(df_clean.head(10))\n"
   ]
  },
  {
   "cell_type": "code",
   "execution_count": 38,
   "id": "c5ca03f9",
   "metadata": {},
   "outputs": [
    {
     "name": "stdout",
     "output_type": "stream",
     "text": [
      "         date                         merchant  amount  \\\n",
      "0  2025-09-04  PREAUTHORIZED PAYMENT THANK YOU  391.07   \n",
      "1  2025-09-02        GAP OUTLET CANADA LASALLE  -27.11   \n",
      "2  2025-09-02  DDDOORDASHINDIAPARADI VANCOUVER  -16.14   \n",
      "3  2025-09-02            WALMARTCA MISSISSAUGA  -69.36   \n",
      "4  2025-09-02               CAW MARKET WINDSOR   -1.92   \n",
      "\n",
      "                    merchant_clean  category  \n",
      "0  PREAUTHORIZED PAYMENT THANK YOU     Bills  \n",
      "1        GAP OUTLET CANADA LASALLE  Shopping  \n",
      "2  DDDOORDASHINDIAPARADI VANCOUVER      Food  \n",
      "3            WALMARTCA MISSISSAUGA   Grocery  \n",
      "4               CAW MARKET WINDSOR   Grocery  \n"
     ]
    }
   ],
   "source": [
    "import re\n",
    "\n",
    "# Load the original CSV\n",
    "df = pd.read_csv(\"/home/sehar/INTELLIGENT-EXPENSE-TRACKER/data/raw/second_batch.csv\")\n",
    "\n",
    "# Make a fresh copy of relevant columns\n",
    "df_new = df[[\"date\", \"merchant\", \"amount\"]].copy()\n",
    "\n",
    "def clean_merchant(text):\n",
    "    text = text.upper()\n",
    "    text = re.sub(r\"\\d{4,}\", \"\", text)      # remove long numbers\n",
    "    text = re.sub(r\"\\s+[A-Z]{2}$\", \"\", text) # remove province codes like \"ON\"\n",
    "    text = re.sub(r\"[^A-Z ]\", \"\", text)      # keep only letters/spaces\n",
    "    text = re.sub(r\"\\s+\", \" \", text).strip()\n",
    "    return text\n",
    "\n",
    "# If df_clean was a slice like df[df[\"amount\"] > 0]\n",
    "# df_clean = df_clean.copy()  # now it's a true independent DataFrame\n",
    "\n",
    "# Now apply your cleaning safely\n",
    "df_new[\"merchant_clean\"] = df_new[\"merchant\"].apply(clean_merchant)\n",
    "\n",
    "# Define a mapping of keywords → categories\n",
    "category_rules = {\n",
    "    \"WALMART\": \"Grocery\",\n",
    "    \"OUTLET\": \"Shopping\",\n",
    "    \"POPEYES\": \"Food\",\n",
    "    \"UBER\": \"Food\",\n",
    "    \"DOORDASH\": \"Food\",\n",
    "    \"FIDO\": \"Utility\",\n",
    "    \"MOBILE\": \"Utility\",\n",
    "    \"DOLLAR\": \"Shopping\",\n",
    "    \"CAW MARKET\": \"Grocery\",\n",
    "    \"PAYMENT\": \"Bills\",\n",
    "    \"FRESHCO\": \"Grocery\",\n",
    "    \"TIM HORTONS\": \"Food\",\n",
    "    \"AMAZON\": \"Shopping\",\n",
    "    \"HM\": \"Shopping\",\n",
    "    \"MCDONALDS\": \"Food\",\n",
    "    \"SHOPPERS\": \"Shopping\",\n",
    "    \"SK\": \"Grocery\",\n",
    "    \"BANFF\": \"trip\",\n",
    "    \"WINNIPEG\": \"trip\",\n",
    "    \"CALGARY\": \"trip\",\n",
    "    \"VICTORIA\": \"trip\",\n",
    "    \"CASHBACK\": \"cashback\",\n",
    "    \"ONROUTE\": \"trip\",\n",
    "    \"RESTAURANT\": \"Food\",\n",
    "    \"INDIA\": \"Food\",\n",
    "    \"CHICKF\": \"Food\",\n",
    "    \"INSTACART\": \"Grocery\",\n",
    "    \"PIZZA\": \"Food\",\n",
    "    \"PAAN\": \"Food\",\n",
    "    \"AW\": \"Food\",\n",
    "    \"LCBO\": \"Food\",\n",
    "    \"WINNERS\": \"Shopping\",\n",
    "    \"MARKET\": \"Food\",\n",
    "    \"ARDEN\": \"Shopping\",\n",
    "    \"CEI\": \"Food\",\n",
    "    \"BASICS\": \"Grocery\",\n",
    "    \"FALLS\": \"trip\",\n",
    "    \"STARBUCKS\": \"Food\",\n",
    "    \"PAAN\": \"Food\",\n",
    "    \"SEPHORA\": \"Shopping\"\n",
    "\n",
    "    }\n",
    "\n",
    "# Function to assign category based on merchant name\n",
    "def categorize_merchant(merchant):\n",
    "    for keyword, category in category_rules.items():\n",
    "        if keyword in merchant:\n",
    "            return category\n",
    "    return \"Other\"  # default category\n",
    "\n",
    "# Apply mapping\n",
    "df_new[\"category\"] = df_new[\"merchant_clean\"].apply(categorize_merchant)\n",
    "\n",
    "# Check results\n",
    "print(df_new.head())\n",
    "\n",
    "\n",
    "df_new.to_csv(\"/home/sehar/INTELLIGENT-EXPENSE-TRACKER/data/raw/fouth_batch.csv\",index=False)"
   ]
  },
  {
   "cell_type": "code",
   "execution_count": 39,
   "id": "1318baf0",
   "metadata": {},
   "outputs": [
    {
     "name": "stdout",
     "output_type": "stream",
     "text": [
      "category\n",
      "Food        142\n",
      "Shopping    132\n",
      "Grocery      87\n",
      "Other        83\n",
      "Bills        29\n",
      "trip         28\n",
      "Utility      23\n",
      "cashback      6\n",
      "Name: count, dtype: int64\n"
     ]
    }
   ],
   "source": [
    "# Count how many transactions per category\n",
    "category_counts = df_new[\"category\"].value_counts()\n",
    "\n",
    "print(category_counts)\n"
   ]
  }
 ],
 "metadata": {
  "kernelspec": {
   "display_name": "venv",
   "language": "python",
   "name": "python3"
  },
  "language_info": {
   "codemirror_mode": {
    "name": "ipython",
    "version": 3
   },
   "file_extension": ".py",
   "mimetype": "text/x-python",
   "name": "python",
   "nbconvert_exporter": "python",
   "pygments_lexer": "ipython3",
   "version": "3.12.3"
  }
 },
 "nbformat": 4,
 "nbformat_minor": 5
}
